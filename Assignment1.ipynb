{
  "nbformat": 4,
  "nbformat_minor": 0,
  "metadata": {
    "colab": {
      "name": "Assignment1.ipynb",
      "provenance": [],
      "collapsed_sections": []
    },
    "kernelspec": {
      "name": "python3",
      "display_name": "Python 3"
    }
  },
  "cells": [
    {
      "cell_type": "code",
      "metadata": {
        "colab": {
          "base_uri": "https://localhost:8080/"
        },
        "id": "r7jeef-4k3uv",
        "outputId": "8442918e-38af-409a-cf89-bdb9b6d17e8c"
      },
      "source": [
        "print('Hello World')"
      ],
      "execution_count": null,
      "outputs": [
        {
          "output_type": "stream",
          "text": [
            "Hello World\n"
          ],
          "name": "stdout"
        }
      ]
    },
    {
      "cell_type": "code",
      "metadata": {
        "colab": {
          "base_uri": "https://localhost:8080/"
        },
        "id": "TCSwWupinMb4",
        "outputId": "71aeaa19-ebdd-4404-8df0-a830cc54e793"
      },
      "source": [
        "import pandas as pd\r\n",
        "from google.colab import drive\r\n",
        "drive.mount('/content/drive/',force_remount=True)\r\n",
        "My_Dataframe=pd.read_csv('/content/drive/My Drive/My data files/Seattle_Short.csv',header=0)\r\n",
        "print(My_Dataframe)"
      ],
      "execution_count": null,
      "outputs": [
        {
          "output_type": "stream",
          "text": [
            "Mounted at /content/drive/\n",
            "                                 Address  ... Incident Number\n",
            "0                        215 W Mercer St  ...      F190020320\n",
            "1                       400 S Jackson St  ...      F190020321\n",
            "2      Seward Park Av S / S Henderson St  ...      F190020323\n",
            "3                  8815 Seward Park Av S  ...      F190020324\n",
            "4                      3005 Rainier Av S  ...      F190020326\n",
            "...                                  ...  ...             ...\n",
            "19995                  13519 30th Ave Ne  ...      F210003137\n",
            "19996                 645 W Nickerson St  ...      F210003139\n",
            "19997                10733 Meridian Av N  ...      F210003151\n",
            "19998                         569 Lee St  ...      F210003167\n",
            "19999                   3926 Aurora Av N  ...      F210003140\n",
            "\n",
            "[20000 rows x 7 columns]\n"
          ],
          "name": "stdout"
        }
      ]
    },
    {
      "cell_type": "markdown",
      "metadata": {
        "id": "0HI8ws9yTSU-"
      },
      "source": [
        "The title of the columns\r\n",
        "\r\n",
        "The values of the last column\r\n",
        "\r\n",
        "The first five rows of the dataset (excluding the column title)\r\n",
        "\r\n",
        "The value in the row 100 and first column.\r\n"
      ]
    },
    {
      "cell_type": "code",
      "metadata": {
        "colab": {
          "base_uri": "https://localhost:8080/"
        },
        "id": "FOXczuu1T5-7",
        "outputId": "f9a36b1c-4537-4d7e-d338-83f3877ad700"
      },
      "source": [
        "My_Dataframe.columns"
      ],
      "execution_count": 83,
      "outputs": [
        {
          "output_type": "execute_result",
          "data": {
            "text/plain": [
              "Index(['Address', 'Type', 'Datetime', 'Latitude', 'Longitude',\n",
              "       'Report Location', 'Incident Number'],\n",
              "      dtype='object')"
            ]
          },
          "metadata": {
            "tags": []
          },
          "execution_count": 83
        }
      ]
    },
    {
      "cell_type": "code",
      "metadata": {
        "colab": {
          "base_uri": "https://localhost:8080/"
        },
        "id": "yYZkTKDNgkMs",
        "outputId": "d09fda18-71cf-49e9-e590-4188b73ff8f9"
      },
      "source": [
        "My_Dataframe.iloc[:,-1]"
      ],
      "execution_count": 84,
      "outputs": [
        {
          "output_type": "execute_result",
          "data": {
            "text/plain": [
              "0        F190020320\n",
              "1        F190020321\n",
              "2        F190020323\n",
              "3        F190020324\n",
              "4        F190020326\n",
              "            ...    \n",
              "19995    F210003137\n",
              "19996    F210003139\n",
              "19997    F210003151\n",
              "19998    F210003167\n",
              "19999    F210003140\n",
              "Name: Incident Number, Length: 20000, dtype: object"
            ]
          },
          "metadata": {
            "tags": []
          },
          "execution_count": 84
        }
      ]
    },
    {
      "cell_type": "code",
      "metadata": {
        "colab": {
          "base_uri": "https://localhost:8080/"
        },
        "id": "NBukfibTgpI6",
        "outputId": "bada31be-6850-4f94-9741-46bcd0cf93ca"
      },
      "source": [
        "My_Dataframe_5_rows=My_Dataframe.head(5)\r\n",
        "My_Dataframe_no_header=My_Dataframe_5_rows.to_string(header=None,index=False)\r\n",
        "print(My_Dataframe_no_header)"
      ],
      "execution_count": 85,
      "outputs": [
        {
          "output_type": "stream",
          "text": [
            "                   215 W Mercer St              Medic Response  02/26/2019 04:30:29 PM  47.624593 -122.359508  POINT (-122.359508 47.624593)  F190020320\n",
            "                  400 S Jackson St            4RED - 2 + 1 + 1  02/26/2019 04:32:50 PM  47.599197 -122.328968  POINT (-122.328968 47.599197)  F190020321\n",
            " Seward Park Av S / S Henderson St  Medic Response, 6 per Rule  02/26/2019 04:47:50 PM  47.523293 -122.264555  POINT (-122.264555 47.523293)  F190020323\n",
            "             8815 Seward Park Av S  Medic Response, 6 per Rule  02/26/2019 04:48:20 PM  47.524120 -122.264611   POINT (-122.264611 47.52412)  F190020324\n",
            "                 3005 Rainier Av S                Aid Response  02/26/2019 05:00:41 PM  47.576907 -122.297049  POINT (-122.297049 47.576907)  F190020326\n"
          ],
          "name": "stdout"
        }
      ]
    },
    {
      "cell_type": "code",
      "metadata": {
        "colab": {
          "base_uri": "https://localhost:8080/",
          "height": 35
        },
        "id": "kj4HWwV_gubq",
        "outputId": "da2eeecf-a1ee-4159-8e3f-29e47d3b0d5f"
      },
      "source": [
        "My_Dataframe.iloc[99,0] "
      ],
      "execution_count": 86,
      "outputs": [
        {
          "output_type": "execute_result",
          "data": {
            "application/vnd.google.colaboratory.intrinsic+json": {
              "type": "string"
            },
            "text/plain": [
              "'6940 62nd Av Ne'"
            ]
          },
          "metadata": {
            "tags": []
          },
          "execution_count": 86
        }
      ]
    }
  ]
}
