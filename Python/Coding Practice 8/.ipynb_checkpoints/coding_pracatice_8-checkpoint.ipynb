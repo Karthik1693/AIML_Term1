{
 "cells": [
  {
   "cell_type": "markdown",
   "metadata": {},
   "source": [
    "Question 1: Print First 10 natural numbers using while loop"
   ]
  },
  {
   "cell_type": "code",
   "execution_count": 9,
   "metadata": {},
   "outputs": [
    {
     "name": "stdout",
     "output_type": "stream",
     "text": [
      "Displaying First 10 natural numbers\n",
      "\n",
      "0\n",
      "1\n",
      "2\n",
      "3\n",
      "4\n",
      "5\n",
      "6\n",
      "7\n",
      "8\n",
      "9\n"
     ]
    }
   ],
   "source": [
    "i=0\n",
    "print(\"Displaying First 10 natural numbers\\n\")\n",
    "while i < 10:\n",
    "    print(i)\n",
    "    i=i+1"
   ]
  },
  {
   "cell_type": "markdown",
   "metadata": {},
   "source": [
    "Question 2: Print the following pattern"
   ]
  },
  {
   "cell_type": "code",
   "execution_count": 37,
   "metadata": {},
   "outputs": [
    {
     "name": "stdout",
     "output_type": "stream",
     "text": [
      "1 \n",
      "1 2 \n",
      "1 2 3 \n",
      "1 2 3 4 \n"
     ]
    }
   ],
   "source": [
    "for i in range(1,5):\n",
    "    for j in range(1, i+1):\n",
    "        print(j, end=\" \")\n",
    "    print()"
   ]
  },
  {
   "cell_type": "markdown",
   "metadata": {},
   "source": [
    "Question 3: Accept number from user and calculate the sum of all number between 1 and given\n",
    "number.\n",
    "Expected output:\n",
    "For example, user given 10 so the output should be 55 "
   ]
  },
  {
   "cell_type": "code",
   "execution_count": 45,
   "metadata": {},
   "outputs": [
    {
     "name": "stdin",
     "output_type": "stream",
     "text": [
      "please enter the number 10\n"
     ]
    },
    {
     "name": "stdout",
     "output_type": "stream",
     "text": [
      "The sum value is 55\n"
     ]
    }
   ],
   "source": [
    "user_input = int(input(\"please enter the number\"))\n",
    "sum_value = 0\n",
    "\n",
    "for i in range(1,user_input+1):\n",
    "    sum_value = sum_value + i\n",
    "print (\"The sum value is\",sum_value)"
   ]
  },
  {
   "cell_type": "markdown",
   "metadata": {},
   "source": [
    "Question 4: Print multiplication table of given number."
   ]
  },
  {
   "cell_type": "code",
   "execution_count": 48,
   "metadata": {},
   "outputs": [
    {
     "name": "stdin",
     "output_type": "stream",
     "text": [
      "please enter the number 2\n"
     ]
    },
    {
     "name": "stdout",
     "output_type": "stream",
     "text": [
      "2\n",
      "4\n",
      "6\n",
      "8\n",
      "10\n",
      "12\n",
      "14\n",
      "16\n",
      "18\n",
      "20\n"
     ]
    }
   ],
   "source": [
    "user_input = int(input(\"please enter the number\"))\n",
    "\n",
    "for i in range (1,11):\n",
    "    print(user_input*i)"
   ]
  },
  {
   "cell_type": "markdown",
   "metadata": {},
   "source": [
    "Question 5: Given a list iterate it and display numbers which are divisible by 5 and if you find number\n",
    "greater than 150 stop the loop iteration.\n",
    "list1 = [12, 15, 32, 42, 55, 75, 122, 132, 150, 180, 200]"
   ]
  },
  {
   "cell_type": "code",
   "execution_count": 53,
   "metadata": {},
   "outputs": [
    {
     "name": "stdout",
     "output_type": "stream",
     "text": [
      "15\n",
      "55\n",
      "75\n",
      "150\n"
     ]
    }
   ],
   "source": [
    "list1 = [12, 15, 32, 42, 55, 75, 122, 132, 150, 180, 200]\n",
    "for i in range(0,len(list1)):\n",
    "    if (list1[i] % 5 == 0 and list1[i] <= 150):\n",
    "        print(list1[i])"
   ]
  },
  {
   "cell_type": "markdown",
   "metadata": {},
   "source": [
    "Question 6: Given a number count the total number of digits in a number.\n",
    "Expected output:\n",
    "For example, the number is 75869, so the output should be 5. "
   ]
  },
  {
   "cell_type": "code",
   "execution_count": 60,
   "metadata": {},
   "outputs": [
    {
     "name": "stdin",
     "output_type": "stream",
     "text": [
      "please enter the number 1234\n"
     ]
    },
    {
     "name": "stdout",
     "output_type": "stream",
     "text": [
      "The number of digits in the number are: 4\n"
     ]
    }
   ],
   "source": [
    "user_input = int(input(\"please enter the number\"))\n",
    "digits=0\n",
    "while(user_input>0):\n",
    "    digits=digits+1\n",
    "    user_input=user_input//10\n",
    "print(\"The number of digits in the number are:\",digits)"
   ]
  },
  {
   "cell_type": "markdown",
   "metadata": {},
   "source": [
    "Question 7: Print the following pattern using for loop"
   ]
  },
  {
   "cell_type": "code",
   "execution_count": 85,
   "metadata": {},
   "outputs": [
    {
     "name": "stdout",
     "output_type": "stream",
     "text": [
      "5 4 3 2 1 \n",
      "4 3 2 1 \n",
      "3 2 1 \n",
      "2 1 \n",
      "1 \n"
     ]
    }
   ],
   "source": [
    "j=5\n",
    "for i in range(5,0,-1):\n",
    "    for j in range(i,0,-1):\n",
    "        print(j, end=\" \")\n",
    "    print()"
   ]
  },
  {
   "cell_type": "markdown",
   "metadata": {},
   "source": [
    "Question 8: Reverse the following list using for loop. list\n",
    "= [10, 20, 30, 40, 50]\n"
   ]
  },
  {
   "cell_type": "code",
   "execution_count": 92,
   "metadata": {},
   "outputs": [
    {
     "name": "stdout",
     "output_type": "stream",
     "text": [
      "50\n",
      "40\n",
      "30\n",
      "20\n",
      "10\n"
     ]
    }
   ],
   "source": [
    "list = [10, 20, 30, 40, 50]\n",
    "for i in range(len(list),0,-1):\n",
    "    print(list[i-1])"
   ]
  },
  {
   "cell_type": "markdown",
   "metadata": {},
   "source": [
    "Display a message “Done” after successful execution of for loop."
   ]
  },
  {
   "cell_type": "code",
   "execution_count": 95,
   "metadata": {},
   "outputs": [
    {
     "name": "stdout",
     "output_type": "stream",
     "text": [
      "0 \n",
      "\n",
      "1 \n",
      "\n",
      "Done!\n"
     ]
    }
   ],
   "source": [
    "for i in range(0,2):\n",
    "    print(i,'\\n')\n",
    "print('Done!')"
   ]
  },
  {
   "cell_type": "markdown",
   "metadata": {},
   "source": [
    "Question 10: Display Fibonacci series up to 10 terms.\n",
    "Fibonacci sequence: Each number is the sum of the two preceding ones, starting from 0 and 1. \n",
    "Expected output:\n",
    "Fibonacci sequence:\n",
    "0 1 1 2 3 5 8 13 21 34 "
   ]
  },
  {
   "cell_type": "code",
   "execution_count": 4,
   "metadata": {},
   "outputs": [
    {
     "name": "stdin",
     "output_type": "stream",
     "text": [
      "Enter the input: 10\n"
     ]
    },
    {
     "name": "stdout",
     "output_type": "stream",
     "text": [
      "Fibonacci sequence:\n",
      "0\n",
      "1\n",
      "1\n",
      "2\n",
      "3\n",
      "5\n",
      "8\n",
      "13\n",
      "21\n",
      "34\n"
     ]
    }
   ],
   "source": [
    "user_input = int(input(\"Enter the input:\"))\n",
    "result=0\n",
    "count = 0\n",
    "flag = 1\n",
    "print(\"Fibonacci sequence:\")\n",
    "while count < user_input:\n",
    "        print(result)\n",
    "        sum = result + flag\n",
    "        result = flag\n",
    "        flag = sum\n",
    "        count += 1"
   ]
  },
  {
   "cell_type": "markdown",
   "metadata": {},
   "source": [
    "Question 11: Write a loop to find the factorial of any number.\n",
    "Note: The factorial (symbol: !) means to multiply all whole numbers from our chosen number down to 1.\n",
    "\n",
    "Examples: Calculate the factorial of 5\n",
    "5! = 5 × 4 × 3 × 2 × 1 = 120 "
   ]
  },
  {
   "cell_type": "code",
   "execution_count": 12,
   "metadata": {},
   "outputs": [
    {
     "name": "stdin",
     "output_type": "stream",
     "text": [
      "Enter the input: 5\n"
     ]
    },
    {
     "name": "stdout",
     "output_type": "stream",
     "text": [
      "The factorial of 5 is 120\n"
     ]
    }
   ],
   "source": [
    "user_input = int(input(\"Enter the input:\"))\n",
    "\n",
    "\n",
    "def fact(user_input):\n",
    "    if user_input == 0:\n",
    "        return 1\n",
    "    else:\n",
    "        factorial_value = user_input * fact(user_input-1)\n",
    "        return factorial_value\n",
    "\n",
    "print (\"The factorial of\",user_input,\"is\",fact(user_input))"
   ]
  },
  {
   "cell_type": "markdown",
   "metadata": {},
   "source": [
    "Question 12: Python program to display all the prime numbers within a range.\n",
    "Note: A Prime Number is a whole number that cannot be made by multiplying other whole numbers.\n",
    "\n",
    "Examples:\n",
    "37 is a Prime Number because no other whole numbers multiply together to make it. o 6\n",
    "is not a Prime Number because it can be made by 2×3 = 6\n",
    "\n",
    "start = 25 end\n",
    "= 40\n",
    "\n",
    "Expected output:\n",
    "Prime numbers between 25 and 40 are:\n",
    "29\n",
    "31 "
   ]
  },
  {
   "cell_type": "code",
   "execution_count": 44,
   "metadata": {},
   "outputs": [
    {
     "name": "stdout",
     "output_type": "stream",
     "text": [
      "Prime numbers between 25 and 40 are:\n",
      "29\n",
      "31\n",
      "37\n"
     ]
    }
   ],
   "source": [
    "lower = 25\n",
    "upper = 40\n",
    "print(\"Prime numbers between\", lower, \"and\", upper, \"are:\")\n",
    "for num in range(lower, upper + 1):\n",
    "    if num > 1:\n",
    "        for i in range(2, num):\n",
    "            if (num % i) == 0:\n",
    "                break\n",
    "        else:\n",
    "            print(num)"
   ]
  },
  {
   "cell_type": "code",
   "execution_count": null,
   "metadata": {},
   "outputs": [],
   "source": []
  }
 ],
 "metadata": {
  "kernelspec": {
   "display_name": "Python 3",
   "language": "python",
   "name": "python3"
  },
  "language_info": {
   "codemirror_mode": {
    "name": "ipython",
    "version": 3
   },
   "file_extension": ".py",
   "mimetype": "text/x-python",
   "name": "python",
   "nbconvert_exporter": "python",
   "pygments_lexer": "ipython3",
   "version": "3.8.5"
  }
 },
 "nbformat": 4,
 "nbformat_minor": 4
}
