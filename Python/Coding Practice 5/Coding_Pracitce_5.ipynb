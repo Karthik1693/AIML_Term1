{
 "cells": [
  {
   "cell_type": "markdown",
   "metadata": {},
   "source": [
    "## 4.1 Pizza"
   ]
  },
  {
   "cell_type": "code",
   "execution_count": 10,
   "metadata": {},
   "outputs": [
    {
     "name": "stdout",
     "output_type": "stream",
     "text": [
      "I like Chicken Pizza.\n",
      "I like Veg Pizza.\n",
      "I like Prawn Pizza.\n",
      "Among the number of food Pizza is my favorite food because it tastes and smells fabulous.\n",
      "The pizza itself looks so yummy, crispy and so cheesy. There is no better feeling in the world than a warm pizza box on your lap. My love for Pizza is very high.\n"
     ]
    }
   ],
   "source": [
    "pizza = [\"Chicken\",\"Veg\",\"Prawn\"]\n",
    "for i in pizza:\n",
    "    print(\"I like\",i,\"Pizza.\")\n",
    "print(\"Among the number of food Pizza is my favorite food because it tastes and smells fabulous.\\nThe pizza itself looks so yummy, crispy and so cheesy. There is no better feeling in the world than a warm pizza box on your lap. My love for Pizza is very high.\")"
   ]
  },
  {
   "cell_type": "markdown",
   "metadata": {},
   "source": [
    "## 4.2 Animals"
   ]
  },
  {
   "cell_type": "code",
   "execution_count": 8,
   "metadata": {},
   "outputs": [
    {
     "name": "stdout",
     "output_type": "stream",
     "text": [
      "Dog is a great animal.\n",
      "Cat is a great animal.\n",
      "Rabbit is a great animal.\n",
      "All these animals would make a best pet.\n"
     ]
    }
   ],
   "source": [
    "pets = [\"Dog\",\"Cat\",\"Rabbit\"]\n",
    "for i in pets:\n",
    "    print(i,\"is a great animal.\")\n",
    "print(\"All these animals would make a best pet.\")"
   ]
  },
  {
   "cell_type": "markdown",
   "metadata": {},
   "source": [
    "## 4.3 Counting to Twenty"
   ]
  },
  {
   "cell_type": "code",
   "execution_count": 8,
   "metadata": {},
   "outputs": [
    {
     "name": "stdout",
     "output_type": "stream",
     "text": [
      "1\n",
      "2\n",
      "3\n",
      "4\n",
      "5\n",
      "6\n",
      "7\n",
      "8\n",
      "9\n",
      "10\n",
      "11\n",
      "12\n",
      "13\n",
      "14\n",
      "15\n",
      "16\n",
      "17\n",
      "18\n",
      "19\n",
      "20\n"
     ]
    }
   ],
   "source": [
    "for i in range(1,21):\n",
    "    print(i)"
   ]
  },
  {
   "cell_type": "markdown",
   "metadata": {},
   "source": [
    "## 4.4 One Million"
   ]
  },
  {
   "cell_type": "code",
   "execution_count": 3,
   "metadata": {},
   "outputs": [],
   "source": [
    "million_numbers=[]\n",
    "for i in range(1000001):\n",
    "    if i!=0:\n",
    "     million_numbers.append(i)\n",
    "#for i in million_numbers:\n",
    " #   print(i)"
   ]
  },
  {
   "cell_type": "markdown",
   "metadata": {},
   "source": [
    "## 4.5 Summing the numbers"
   ]
  },
  {
   "cell_type": "code",
   "execution_count": 6,
   "metadata": {},
   "outputs": [
    {
     "data": {
      "text/plain": [
       "500000500000"
      ]
     },
     "execution_count": 6,
     "metadata": {},
     "output_type": "execute_result"
    }
   ],
   "source": [
    "sum(million_numbers)"
   ]
  },
  {
   "cell_type": "markdown",
   "metadata": {},
   "source": [
    "## 4.6 Odd numbers"
   ]
  },
  {
   "cell_type": "code",
   "execution_count": 7,
   "metadata": {},
   "outputs": [
    {
     "name": "stdout",
     "output_type": "stream",
     "text": [
      "1\n",
      "2\n",
      "3\n",
      "4\n",
      "5\n",
      "6\n",
      "7\n",
      "8\n",
      "9\n",
      "10\n",
      "11\n",
      "12\n",
      "13\n",
      "14\n",
      "15\n",
      "16\n",
      "17\n",
      "18\n",
      "19\n",
      "20\n"
     ]
    }
   ],
   "source": [
    "for i in range(1,21):\n",
    "    print(i)"
   ]
  },
  {
   "cell_type": "markdown",
   "metadata": {},
   "source": [
    "## 4.13 Buffet"
   ]
  },
  {
   "cell_type": "code",
   "execution_count": 19,
   "metadata": {},
   "outputs": [
    {
     "name": "stdout",
     "output_type": "stream",
     "text": [
      "Food Menu\n",
      "Biryani\n",
      "Momos\n",
      "Kebab\n",
      "Burger\n",
      "Steak\n",
      "\n",
      "New Food Menu\n",
      "Biryani\n",
      "Fish&Chips\n",
      "Brownie\n",
      "Burger\n",
      "Steak\n"
     ]
    }
   ],
   "source": [
    "food_tuple = ('Biryani','Momos','Kebab','Burger','Steak')\n",
    "print(\"Food Menu\")\n",
    "for i in food_tuple:\n",
    "    print(i)\n",
    "\n",
    "food_tuple = ('Biryani','Fish&Chips','Brownie','Burger','Steak')\n",
    "print(\"\\nNew Food Menu\")\n",
    "for i in food_tuple:\n",
    "    print(i)\n",
    "\n"
   ]
  },
  {
   "cell_type": "markdown",
   "metadata": {},
   "source": [
    "## 8.3 Tshirt"
   ]
  },
  {
   "cell_type": "code",
   "execution_count": 25,
   "metadata": {},
   "outputs": [
    {
     "name": "stdout",
     "output_type": "stream",
     "text": [
      "Make a shirt with size L having the message I Love Python .\n"
     ]
    }
   ],
   "source": [
    "def make_shirt(num,msg):\n",
    "    print(\"Make a shirt with size\",num,\"having the message\",msg,\".\")\n",
    "\n",
    "make_shirt(\"L\",\"I Love Python\")"
   ]
  },
  {
   "cell_type": "markdown",
   "metadata": {},
   "source": [
    "## 8.4 Large Shirts"
   ]
  },
  {
   "cell_type": "code",
   "execution_count": null,
   "metadata": {},
   "outputs": [],
   "source": [
    "def make_shirt(num=\"L\",msg=\"I Love Python\"):\n",
    "    print(\"Make a shirt with size\",num,\"having the message\",msg,\".\")\n",
    "\n",
    "make_shirt()\n",
    "make_shirt(\"XL\")\n",
    "make_shirt(msg=\"Peace\")"
   ]
  },
  {
   "cell_type": "markdown",
   "metadata": {},
   "source": [
    "## 8.5 cities"
   ]
  },
  {
   "cell_type": "code",
   "execution_count": 30,
   "metadata": {},
   "outputs": [
    {
     "name": "stdout",
     "output_type": "stream",
     "text": [
      "Melbourne is in Australia.\n",
      "Toronto is in Canada.\n",
      "Chennai is in India.\n"
     ]
    }
   ],
   "source": [
    "def describe_city(city,country='Australia'):\n",
    "    msg = city.title() + \" is in \" + country.title() + \".\"\n",
    "    print(msg)\n",
    "\n",
    "describe_city('Melbourne')\n",
    "describe_city('Toronto', 'Canada')\n",
    "describe_city('Chennai','India')"
   ]
  },
  {
   "cell_type": "markdown",
   "metadata": {},
   "source": [
    "## 8.6 City Names"
   ]
  },
  {
   "cell_type": "code",
   "execution_count": 37,
   "metadata": {},
   "outputs": [
    {
     "name": "stdout",
     "output_type": "stream",
     "text": [
      "\"Melbourne,Australia\"\n",
      "\"Toronto,Canada\"\n",
      "\"Chennai,India\"\n"
     ]
    }
   ],
   "source": [
    "def describe_city(city,country):\n",
    "    msg = '\"'+city.title() +\",\"+ country.title() + '\"'\n",
    "    print(msg)\n",
    "\n",
    "describe_city('Melbourne','Australia')\n",
    "describe_city('Toronto', 'Canada')\n",
    "describe_city('Chennai','India')"
   ]
  },
  {
   "cell_type": "markdown",
   "metadata": {},
   "source": [
    "## 8.7 Album"
   ]
  },
  {
   "cell_type": "code",
   "execution_count": 2,
   "metadata": {},
   "outputs": [
    {
     "name": "stdout",
     "output_type": "stream",
     "text": [
      "{'artist': 'Queen', 'title': 'Bohemian Rhapsody', 'number of songs': 'None'}\n",
      "{'artist': 'Jennifer Lopez', 'title': 'On The Floor', 'number of songs': 'None'}\n",
      "{'artist': 'Metallica', 'title': 'Nothing Else Matters', 'number of songs': '3'}\n"
     ]
    }
   ],
   "source": [
    "def make_album(artist, title, songs='None'):\n",
    "   \n",
    "    album_dict = {\n",
    "        'artist': artist.title(),\n",
    "        'title': title.title(),\n",
    "        'number of songs': songs.title(),\n",
    "        }\n",
    "    return album_dict\n",
    "\n",
    "album = make_album('Queen', 'Bohemian rhapsody')\n",
    "print(album)\n",
    "\n",
    "album = make_album('Jennifer Lopez', 'On the floor')\n",
    "print(album)\n",
    "\n",
    "album = make_album('Metallica', 'Nothing else matters',\"3\")\n",
    "print(album)"
   ]
  },
  {
   "cell_type": "markdown",
   "metadata": {},
   "source": [
    "## 8.8 User Album"
   ]
  },
  {
   "cell_type": "code",
   "execution_count": null,
   "metadata": {},
   "outputs": [],
   "source": [
    "while(exit):\n",
    "    Album = input('Please enter a Album name: ')\n",
    "    Artist = input('Please enter a Artist name: ')\n",
    "\n",
    "print(make_album(Album,Artist))\n"
   ]
  }
 ],
 "metadata": {
  "kernelspec": {
   "display_name": "Python 3",
   "language": "python",
   "name": "python3"
  },
  "language_info": {
   "codemirror_mode": {
    "name": "ipython",
    "version": 3
   },
   "file_extension": ".py",
   "mimetype": "text/x-python",
   "name": "python",
   "nbconvert_exporter": "python",
   "pygments_lexer": "ipython3",
   "version": "3.8.5"
  }
 },
 "nbformat": 4,
 "nbformat_minor": 4
}
