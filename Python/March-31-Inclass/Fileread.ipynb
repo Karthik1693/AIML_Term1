{
 "cells": [
  {
   "cell_type": "code",
   "execution_count": 21,
   "metadata": {},
   "outputs": [
    {
     "name": "stdout",
     "output_type": "stream",
     "text": [
      "<class 'openpyxl.workbook.workbook.Workbook'>\n",
      "List of sheets\n",
      "stouffville\n",
      "peter\n",
      "<class 'openpyxl.worksheet.worksheet.Worksheet'>\n",
      "stouffville\n",
      "Type of cell A1:\n",
      "<Cell 'stouffville'.A1>\n",
      "value of cell A1:\n",
      "Type\n"
     ]
    }
   ],
   "source": [
    "import openpyxl\n",
    "\n",
    "wb = openpyxl.load_workbook('realestatedata.xlsx')\n",
    "print(type(wb))\n",
    "\n",
    "sheets = wb.sheetnames\n",
    "print(\"List of sheets\")\n",
    "\n",
    "for x in sheets:\n",
    "    print(x)\n",
    "    sheet_name = x\n",
    "\n",
    "realestatedata = wb['stouffville']\n",
    "print(type(realestatedata))\n",
    "print(realestatedata.title)\n",
    "\n",
    "# print particular cell value\n",
    "print(\"Type of cell A1:\")\n",
    "data1_type = str(realestatedata['A1'])\n",
    "print(data1_type)\n",
    "print(\"value of cell A1:\")\n",
    "data1 = str(realestatedata['A1'].value)\n",
    "print(data1)"
   ]
  },
  {
   "cell_type": "code",
   "execution_count": null,
   "metadata": {},
   "outputs": [],
   "source": []
  }
 ],
 "metadata": {
  "kernelspec": {
   "display_name": "Python 3",
   "language": "python",
   "name": "python3"
  },
  "language_info": {
   "codemirror_mode": {
    "name": "ipython",
    "version": 3
   },
   "file_extension": ".py",
   "mimetype": "text/x-python",
   "name": "python",
   "nbconvert_exporter": "python",
   "pygments_lexer": "ipython3",
   "version": "3.8.5"
  }
 },
 "nbformat": 4,
 "nbformat_minor": 4
}
