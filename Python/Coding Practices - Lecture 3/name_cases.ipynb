{
 "cells": [
  {
   "cell_type": "code",
   "execution_count": 5,
   "metadata": {},
   "outputs": [
    {
     "name": "stdout",
     "output_type": "stream",
     "text": [
      "KARTHIK\n",
      "karthik\n",
      "Karthik\n"
     ]
    }
   ],
   "source": [
    "name = \"Karthik\"\n",
    "\n",
    "#upper_case\n",
    "print (name.upper())\n",
    "\n",
    "#lower_case\n",
    "print (name.lower())\n",
    "\n",
    "#title_case\n",
    "print (name.title())"
   ]
  }
 ],
 "metadata": {
  "kernelspec": {
   "display_name": "Python 3",
   "language": "python",
   "name": "python3"
  },
  "language_info": {
   "name": ""
  }
 },
 "nbformat": 4,
 "nbformat_minor": 4
}
