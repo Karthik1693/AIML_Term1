{
 "cells": [
  {
   "cell_type": "markdown",
   "metadata": {},
   "source": [
    "## Conditional Test"
   ]
  },
  {
   "cell_type": "code",
   "execution_count": null,
   "metadata": {},
   "outputs": [],
   "source": [
    "car = 'Subaru'\n",
    "print(\"Is car =='Subaru'? I Predict true\")\n",
    "print(car=='Subaru')\n",
    "\n",
    "car = 'Subaru'\n",
    "print(\"\\nIs car =='Subaru'? I Predict false\")\n",
    "print(car=='Audi')\n",
    "\n",
    "car = 'BMW'\n",
    "print(\"\\nIs car =='BMW'? I Predict true\")\n",
    "print(car=='BMW')\n",
    "\n",
    "car = 'BMW'\n",
    "print(\"\\nIs car =='BMW'? I Predict false\")\n",
    "print(car=='Subaru')\n",
    "\n",
    "car = 'Audi'\n",
    "print(\"\\nIs car =='Audi'? I Predict true\")\n",
    "print(car=='Audi')\n",
    "\n",
    "car = 'Audi'\n",
    "print(\"\\nIs car =='Audi'? I Predict false\")\n",
    "print(car=='Subaru')\n",
    "\n",
    "car = 'Ferrai'\n",
    "print(\"\\nIs car =='Ferrai'? I Predict true\")\n",
    "print(car=='Ferrari')\n",
    "\n",
    "car = 'Ferrari'\n",
    "print(\"\\nIs car =='Ferrai'? I Predict false\")\n",
    "print(car=='Subaru')\n",
    "\n",
    "car = 'Tesla'\n",
    "print(\"\\nIs car =='Tesla'? I Predict true\")\n",
    "print(car=='Tesla')\n",
    "\n",
    "car = 'Tesla'\n",
    "print(\"\\nIs car =='Tesla'? I Predict false\")\n",
    "print(car=='Ferrari')"
   ]
  },
  {
   "cell_type": "markdown",
   "metadata": {},
   "source": [
    "## More Conditional Test"
   ]
  },
  {
   "cell_type": "code",
   "execution_count": 59,
   "metadata": {},
   "outputs": [
    {
     "name": "stdout",
     "output_type": "stream",
     "text": [
      "\n",
      "Is car =!'Audi'? I Predict True\n",
      "True\n",
      "\n",
      "Is car =='BMW'? I Predict True\n",
      "True\n",
      "\n",
      "Checking greater than,less than and not equal\n",
      "True\n",
      "True\n",
      "True\n",
      "True\n",
      "False\n",
      "\n",
      "Checking the AND and OR\n",
      "True\n",
      "True\n",
      "False\n",
      "True\n",
      "\n",
      "Checking whether the item is present in the list\n",
      "Value is present\n",
      "\n",
      "Checking whether the item is not present in the list\n",
      "Value is not present\n"
     ]
    }
   ],
   "source": [
    "car = \"Ferrari\"\n",
    "print(\"\\nIs car =!'Audi'? I Predict True\")\n",
    "print(car != 'Audi')\n",
    "\n",
    "car = \"BMW\"\n",
    "print(\"\\nIs car =='BMW'? I Predict True\")\n",
    "print(car.lower() == 'bmw')\n",
    "\n",
    "value = 5\n",
    "print('\\nChecking greater than,less than and not equal')\n",
    "print (value == 5)\n",
    "print(value >= 5)\n",
    "print(value >= 3)\n",
    "print(value <= 5)\n",
    "print(value <= 3)\n",
    "\n",
    "print('\\nChecking the AND and OR')\n",
    "value1 = 3\n",
    "value2 = 6\n",
    "print(value1 == 3 and value2 ==6)\n",
    "print(value1 == 3 or value2 ==6)\n",
    "print(value1 == 2 and value2 ==6)\n",
    "print(value1 == 2 or value2 ==6)\n",
    "\n",
    "print('\\nChecking whether the item is present in the list')\n",
    "values = [1,2,3,4,5]\n",
    "search_number = 3\n",
    "if search_number  in values:  \n",
    "    print(\"Value is present\")\n",
    "\n",
    "print('\\nChecking whether the item is not present in the list')\n",
    "values = [1,2,3,4,5]\n",
    "search_number = 7\n",
    "if search_number not in values:  \n",
    "    print(\"Value is not present\")\n"
   ]
  },
  {
   "cell_type": "markdown",
   "metadata": {},
   "source": [
    "## 5.3 Alien Colors#1"
   ]
  },
  {
   "cell_type": "code",
   "execution_count": 33,
   "metadata": {},
   "outputs": [
    {
     "name": "stdout",
     "output_type": "stream",
     "text": [
      "Player earned 5 points\n"
     ]
    }
   ],
   "source": [
    "alien_color = 'Yellow'\n",
    "if alien_color == 'Green':\n",
    "    print(\"Player earned 5 points\")\n",
    "\n",
    "alien_color = 'Green'\n",
    "if alien_color == 'Green':\n",
    "    print(\"Player earned 5 points\")"
   ]
  },
  {
   "cell_type": "markdown",
   "metadata": {},
   "source": [
    "## 5.4 Alien Colors#2"
   ]
  },
  {
   "cell_type": "code",
   "execution_count": 35,
   "metadata": {},
   "outputs": [
    {
     "name": "stdout",
     "output_type": "stream",
     "text": [
      "Player earned 10 points\n",
      "Player earned 5 points\n"
     ]
    }
   ],
   "source": [
    "alien_color = 'Yellow'\n",
    "if alien_color == 'Green':\n",
    "    print(\"Player earned 5 points\")\n",
    "else:\n",
    "    print(\"Player earned 10 points\")\n",
    "\n",
    "alien_color = 'Green'\n",
    "if alien_color == 'Green':\n",
    "    print(\"Player earned 5 points\")\n",
    "else:\n",
    "    print(\"Player earned 10 points\")"
   ]
  },
  {
   "cell_type": "markdown",
   "metadata": {},
   "source": [
    "## 5.5 Alien Colors#3"
   ]
  },
  {
   "cell_type": "code",
   "execution_count": 37,
   "metadata": {},
   "outputs": [
    {
     "name": "stdout",
     "output_type": "stream",
     "text": [
      "Player earned 10 points\n",
      "Player earned 15 points\n",
      "Player earned 5 points\n"
     ]
    }
   ],
   "source": [
    "alien_color = 'Yellow'\n",
    "if alien_color == 'Green':\n",
    "    print(\"Player earned 5 points\")\n",
    "elif alien_color == 'Yellow':\n",
    "    print(\"Player earned 10 points\")\n",
    "elif alien_color == 'Red':\n",
    "    print(\"Player earned 15 points\")\n",
    "\n",
    "alien_color = 'Red'\n",
    "if alien_color == 'Green':\n",
    "    print(\"Player earned 5 points\")\n",
    "elif alien_color == 'Yellow':\n",
    "    print(\"Player earned 10 points\")\n",
    "elif alien_color == 'Red':\n",
    "    print(\"Player earned 15 points\")\n",
    "    \n",
    "alien_color = 'Green'\n",
    "if alien_color == 'Green':\n",
    "    print(\"Player earned 5 points\")\n",
    "elif alien_color == 'Yellow':\n",
    "    print(\"Player earned 10 points\")\n",
    "elif alien_color == 'Red':\n",
    "    print(\"Player earned 15 points\")"
   ]
  },
  {
   "cell_type": "markdown",
   "metadata": {},
   "source": [
    "## 5.6 Stages of life"
   ]
  },
  {
   "cell_type": "code",
   "execution_count": 39,
   "metadata": {},
   "outputs": [
    {
     "name": "stdout",
     "output_type": "stream",
     "text": [
      "The person is a Kid\n"
     ]
    }
   ],
   "source": [
    "age = 5\n",
    "\n",
    "if age<2:\n",
    "    print(\"The person is a baby\")\n",
    "elif age>=2 and age<4:\n",
    "    print(\"The person is a Toddler\")\n",
    "elif age>=4 and age<13:\n",
    "    print(\"The person is a Kid\")\n",
    "elif age>=13 and age<20:\n",
    "    print(\"The person is a Teenager\")\n",
    "elif age>=20 and age<65:\n",
    "    print(\"The person is an adult\")\n",
    "elif age>=65:\n",
    "    print(\"The person is a kid\")"
   ]
  },
  {
   "cell_type": "markdown",
   "metadata": {},
   "source": [
    "## 5.7 Favourite fruit"
   ]
  },
  {
   "cell_type": "code",
   "execution_count": 62,
   "metadata": {},
   "outputs": [
    {
     "name": "stdout",
     "output_type": "stream",
     "text": [
      "I love Orange\n",
      "I love Grape\n",
      "I love Pineapple\n"
     ]
    }
   ],
   "source": [
    "favourite_fruit = ['Orange','Grape','Pineapple']\n",
    "fruit = 'Orange'\n",
    "if fruit in favourite_fruit:\n",
    "    print(\"I love\",fruit)\n",
    "\n",
    "fruit = 'Banana'\n",
    "if fruit in favourite_fruit:\n",
    "    print(\"I love\",fruit)\n",
    "    \n",
    "fruit = 'Grape'\n",
    "if fruit in favourite_fruit:\n",
    "    print(\"I love\",fruit)\n",
    "    \n",
    "fruit = 'Guava'\n",
    "if fruit in favourite_fruit:\n",
    "    print(\"I love\",fruit)\n",
    "    \n",
    "fruit = 'Pineapple'\n",
    "if fruit in favourite_fruit:\n",
    "    print(\"I love\",fruit)"
   ]
  },
  {
   "cell_type": "markdown",
   "metadata": {},
   "source": [
    "## 5.8 Hello Admin"
   ]
  },
  {
   "cell_type": "code",
   "execution_count": 66,
   "metadata": {},
   "outputs": [
    {
     "name": "stdout",
     "output_type": "stream",
     "text": [
      "Hello Adam Thanks for loggin in!!\n"
     ]
    }
   ],
   "source": [
    "users = [\"Admin\",\"Adam\",\"Bob\",\"Rob\",\"Karthik\",\"Alex\"]\n",
    "user_name = \"Adam\"\n",
    "if user_name in users:\n",
    "    if user_name == \"Admin\":\n",
    "         print(\"Hello Admin,Would you like to see a status report!!\")\n",
    "    else:\n",
    "        print(\"Hello\",user_name,\"Thanks for loggin in!!\")"
   ]
  },
  {
   "cell_type": "markdown",
   "metadata": {},
   "source": [
    "## 5.9 No Users"
   ]
  },
  {
   "cell_type": "code",
   "execution_count": 79,
   "metadata": {},
   "outputs": [
    {
     "name": "stdout",
     "output_type": "stream",
     "text": [
      "List is empty\n"
     ]
    }
   ],
   "source": [
    "users.clear()\n",
    "if not users:\n",
    "    print(\"List is empty\")"
   ]
  },
  {
   "cell_type": "markdown",
   "metadata": {},
   "source": [
    "## 5.10 Checking usernames"
   ]
  },
  {
   "cell_type": "code",
   "execution_count": 106,
   "metadata": {},
   "outputs": [
    {
     "name": "stdout",
     "output_type": "stream",
     "text": [
      "aDam is already taken. Please choose the new username\n",
      "Ross is available\n",
      "Joey is available\n",
      "Karthik is already taken. Please choose the new username\n",
      "Mark is available\n"
     ]
    }
   ],
   "source": [
    "current_users = [\"Adam\",\"Bob\",\"Rob\",\"Karthik\",\"Alex\"]\n",
    "news_users = [\"aDam\",\"Ross\",\"Joey\",\"Karthik\",\"Mark\"]\n",
    "\n",
    "current_users_lower = [item.lower() for item in current_users]\n",
    "\n",
    "for i in news_users:\n",
    "    if i.lower() in current_users_lower:\n",
    "         print(i,\"is already taken. Please choose the new username\")\n",
    "    else:\n",
    "        print(i,\"is available\")"
   ]
  },
  {
   "cell_type": "markdown",
   "metadata": {},
   "source": [
    "## 5.11 Ordinal number"
   ]
  },
  {
   "cell_type": "code",
   "execution_count": 115,
   "metadata": {},
   "outputs": [
    {
     "name": "stdout",
     "output_type": "stream",
     "text": [
      "1 st\n",
      "2 nd\n",
      "3 rd\n",
      "4 th\n",
      "5 th\n",
      "6 th\n",
      "7 th\n",
      "8 th\n",
      "9 th\n"
     ]
    }
   ],
   "source": [
    "numbers = [1,2,3,4,5,6,7,8,9]\n",
    "for i in numbers:\n",
    "    if i==1:\n",
    "        print(\"1 st\")\n",
    "    elif i==2:\n",
    "        print(\"2 nd\")\n",
    "    elif i==3:\n",
    "        print(\"3 rd\")\n",
    "    else:\n",
    "        print(i,\"th\")"
   ]
  }
 ],
 "metadata": {
  "kernelspec": {
   "display_name": "Python 3",
   "language": "python",
   "name": "python3"
  },
  "language_info": {
   "codemirror_mode": {
    "name": "ipython",
    "version": 3
   },
   "file_extension": ".py",
   "mimetype": "text/x-python",
   "name": "python",
   "nbconvert_exporter": "python",
   "pygments_lexer": "ipython3",
   "version": "3.8.5"
  }
 },
 "nbformat": 4,
 "nbformat_minor": 4
}
